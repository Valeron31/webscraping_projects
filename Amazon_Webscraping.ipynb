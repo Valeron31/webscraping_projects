{
  "cells": [
    {
      "cell_type": "markdown",
      "metadata": {
        "id": "view-in-github",
        "colab_type": "text"
      },
      "source": [
        "<a href=\"https://colab.research.google.com/github/Valeron31/webscraping_projects/blob/main/Amazon_Webscraping.ipynb\" target=\"_parent\"><img src=\"https://colab.research.google.com/assets/colab-badge.svg\" alt=\"Open In Colab\"/></a>"
      ]
    },
    {
      "cell_type": "code",
      "execution_count": null,
      "id": "31bfa23f-977e-4462-9f75-9765bb046128",
      "metadata": {
        "id": "31bfa23f-977e-4462-9f75-9765bb046128",
        "outputId": "04a2ab07-cacb-4c2b-c0eb-59547d989036"
      },
      "outputs": [
        {
          "name": "stdout",
          "output_type": "stream",
          "text": [
            "<!doctype html><html lang=\"en-us\" class=\"a-no-js\" data-19ax5a9jf=\"dingo\"><!-- sp:feature:head-start -->\n",
            "<head><script>var aPageStart = (new Date()).getTime();</script><meta charset=\"utf-8\"/>\n",
            "<!-- sp:end-feature:head-start -->\n",
            "<!-- sp:feature:argonath-data -->\n",
            "<script data-argonath=\"t2\">document.write(\"<div id='argonath_loader' style='position: absolute; height: 0px'>&nbsp;</div>\");</script><style>#a-page{background-color: #FFF}</style>\n",
            "<!-- sp:end-feature:argonath-data -->\n",
            "\n",
            "<script type='text/ja\n"
          ]
        }
      ],
      "source": [
        "# import the request library to fetch the content of the url\n",
        "import requests\n",
        "\n",
        "url = \"https://www.amazon.com/HP-Elitebook-X360-1030-i7-7600U/dp/B081VSP25F\"\n",
        "\n",
        "headers = {\"User-Agent\": \"Mozilla/5.0 (Windows NT 10.0; Win64; x64) AppleWebKit/537.36 (KHTML, like Gecko) Chrome/101.0.4951.41 Safari/537.36 Edg/101.0.1210.32\",\"Accept-Encoding\":\"gzip, deflate\", \"Accept\":\"text/html,application/xhtml+xml,application/xml;q=0.9,*/*;q=0.8\",\"DNT\":\"1\",\"Connection\":\"close\",\"Upgrade-Insecure-Request\":\"1\"}\n",
        "r = requests.get(url, headers = headers)\n",
        "\n",
        "print(r.text[0:500])\n"
      ]
    },
    {
      "cell_type": "code",
      "execution_count": null,
      "id": "477ed240-abe9-4443-832f-185c54602a91",
      "metadata": {
        "id": "477ed240-abe9-4443-832f-185c54602a91"
      },
      "outputs": [],
      "source": [
        "# use the beautiful soup library to parse the html\n",
        "\n",
        "from bs4 import BeautifulSoup\n",
        "\n",
        "soup = BeautifulSoup(r.content, 'html.parser')\n",
        "# soup1 = BeautifulSoup(soup.prettify(), 'html.parser')\n",
        "\n",
        "# print(soup)\n",
        "# print(soup1.text[0:500])"
      ]
    },
    {
      "cell_type": "code",
      "execution_count": null,
      "id": "0ac45506-6c07-48dc-8b39-a304dc539f92",
      "metadata": {
        "id": "0ac45506-6c07-48dc-8b39-a304dc539f92",
        "outputId": "15bed28d-3342-476e-e034-80a96d34d879"
      },
      "outputs": [
        {
          "name": "stdout",
          "output_type": "stream",
          "text": [
            "HP Elitebook X360 1030 G2, Windows 10, i7-7600U, 2.8 GHz, Intel HD Graphics 620, 512 GB, Silver (Renewed)\n"
          ]
        }
      ],
      "source": [
        "title = soup.find(id='productTitle').text\n",
        "title = title.strip()\n",
        "print(title)"
      ]
    },
    {
      "cell_type": "code",
      "execution_count": null,
      "id": "ca5f24bf-ecb1-49b4-b87b-d655c9a9ae2f",
      "metadata": {
        "id": "ca5f24bf-ecb1-49b4-b87b-d655c9a9ae2f",
        "outputId": "b1ad427a-38d1-4417-882b-eeb001aab2ec"
      },
      "outputs": [
        {
          "name": "stdout",
          "output_type": "stream",
          "text": [
            "113\n"
          ]
        }
      ],
      "source": [
        "number_of_ratings = soup.find(id='acrCustomerReviewText').text\n",
        "number_of_ratings = number_of_ratings[0:3].strip()\n",
        "print(number_of_ratings)"
      ]
    },
    {
      "cell_type": "code",
      "execution_count": null,
      "id": "566d980f-e466-4e12-99cd-8d9d8b849913",
      "metadata": {
        "id": "566d980f-e466-4e12-99cd-8d9d8b849913",
        "outputId": "84b9871e-8e22-48d3-ab50-e61b52d68e33"
      },
      "outputs": [
        {
          "name": "stdout",
          "output_type": "stream",
          "text": [
            "4.2\n"
          ]
        }
      ],
      "source": [
        "ratings = soup.find('i', 'a-icon a-icon-star a-star-4').text\n",
        "ratings = ratings[0:3].strip()\n",
        "print(ratings)"
      ]
    },
    {
      "cell_type": "code",
      "execution_count": null,
      "id": "cc1eb776-d840-48f7-963e-65d3d5d4755a",
      "metadata": {
        "id": "cc1eb776-d840-48f7-963e-65d3d5d4755a"
      },
      "outputs": [],
      "source": [
        "header = ['Title', 'Number of ratings', 'rating']\n",
        "data = [title, number_of_ratings, ratings]"
      ]
    },
    {
      "cell_type": "code",
      "execution_count": null,
      "id": "83f1c7c4-c0b3-4402-8a43-3cdb9eb37c74",
      "metadata": {
        "id": "83f1c7c4-c0b3-4402-8a43-3cdb9eb37c74"
      },
      "outputs": [],
      "source": [
        "import csv\n",
        "\n",
        "with open('AmazonWebscrapedataset.csv', 'w', newline='', encoding='UTF-8') as f:\n",
        "    writer = csv.writer(f)\n",
        "    writer.writerow(header)\n",
        "    writer.writerow(data)"
      ]
    },
    {
      "cell_type": "code",
      "execution_count": null,
      "id": "825107bd-32ef-40cc-9b62-a8c92287daa6",
      "metadata": {
        "id": "825107bd-32ef-40cc-9b62-a8c92287daa6",
        "outputId": "f17b0de4-29b1-4dc0-9087-aa6737bb7058"
      },
      "outputs": [
        {
          "name": "stdout",
          "output_type": "stream",
          "text": [
            "2022-05-07\n"
          ]
        }
      ],
      "source": [
        "import datetime\n",
        "\n",
        "today = datetime.date.today()\n",
        "print(today)"
      ]
    },
    {
      "cell_type": "code",
      "execution_count": null,
      "id": "783cf5e5-4dc2-4d7e-ab1a-43099346e3a1",
      "metadata": {
        "id": "783cf5e5-4dc2-4d7e-ab1a-43099346e3a1",
        "outputId": "c74f7e79-d1c0-4ec8-f049-5ae956d02798"
      },
      "outputs": [
        {
          "name": "stdout",
          "output_type": "stream",
          "text": [
            "                                               Title  Number of ratings  \\\n",
            "0  HP Elitebook X360 1030 G2, Windows 10, i7-7600...                113   \n",
            "1  HP Elitebook X360 1030 G2, Windows 10, i7-7600...                113   \n",
            "\n",
            "   rating  \n",
            "0     4.2  \n",
            "1     4.2  \n"
          ]
        }
      ],
      "source": [
        "\n",
        "import pandas as pd\n",
        "\n",
        "df = pd.read_csv(r'C:\\Users\\Cloud\\AmazonWebscrapedataset.csv')\n",
        "\n",
        "print(df)"
      ]
    },
    {
      "cell_type": "code",
      "execution_count": null,
      "id": "56a41fb7-a9e3-47d1-aaad-2b538f3bc713",
      "metadata": {
        "id": "56a41fb7-a9e3-47d1-aaad-2b538f3bc713"
      },
      "outputs": [],
      "source": [
        "with open('AmazonWebscrapedataset.csv', 'a+', newline='', encoding='UTF-8') as f:\n",
        "    writer = csv.writer(f)\n",
        "    writer.writerow(data)"
      ]
    },
    {
      "cell_type": "code",
      "execution_count": null,
      "id": "ab5f0d3c-16ac-4bed-a2b0-1ba72ed75086",
      "metadata": {
        "id": "ab5f0d3c-16ac-4bed-a2b0-1ba72ed75086"
      },
      "outputs": [],
      "source": [
        ""
      ]
    }
  ],
  "metadata": {
    "kernelspec": {
      "display_name": "Python 3 (ipykernel)",
      "language": "python",
      "name": "python3"
    },
    "language_info": {
      "codemirror_mode": {
        "name": "ipython",
        "version": 3
      },
      "file_extension": ".py",
      "mimetype": "text/x-python",
      "name": "python",
      "nbconvert_exporter": "python",
      "pygments_lexer": "ipython3",
      "version": "3.10.1"
    },
    "colab": {
      "name": "Amazon Webscraping.ipynb",
      "provenance": [],
      "include_colab_link": true
    }
  },
  "nbformat": 4,
  "nbformat_minor": 5
}
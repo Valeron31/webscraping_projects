{
  "cells": [
    {
      "cell_type": "markdown",
      "metadata": {
        "id": "view-in-github",
        "colab_type": "text"
      },
      "source": [
        "<a href=\"https://colab.research.google.com/github/Valeron31/webscraping_projects/blob/main/Jumia_Webscraping.ipynb\" target=\"_parent\"><img src=\"https://colab.research.google.com/assets/colab-badge.svg\" alt=\"Open In Colab\"/></a>"
      ]
    },
    {
      "cell_type": "code",
      "execution_count": null,
      "id": "f68d9b4f-c658-4757-ae8b-6cd5ac746357",
      "metadata": {
        "id": "f68d9b4f-c658-4757-ae8b-6cd5ac746357",
        "outputId": "94192150-7f9e-4202-fcfb-2f1cd2b06574"
      },
      "outputs": [
        {
          "name": "stdout",
          "output_type": "stream",
          "text": [
            "<!DOCTYPE html><html lang=\"en\" dir=\"ltr\"><head><meta charset=\"utf-8\" /><title>Itel A33 Plus 5.0&quot; Screen, Android 11, 16GB ROM + 1GB RAM, 3020mAh Battery, Fingerprint, 5+2MP Camera, 3G - Blue + FREE CASE | Jumia Nigeria</title><meta property=\"og:type\" content=\"product\" /><meta property=\"og:site_name\" content=\"Jumia Nigeria\" /><meta property=\"og:title\" content=\"A33 Plus 5.0&quot; Screen, Android 11, 16GB ROM + 1GB RAM, 3020mAh Battery, Fingerprint, 5+2MP Camera, 3G - Blue + FREE CASE\" /><meta\n"
          ]
        }
      ],
      "source": [
        "import requests\n",
        "\n",
        "url = \"https://www.jumia.com.ng/itel-a33-plus-5.0-screen-android-11-16gb-rom-1gb-ram-3020mah-battery-fingerprint-52mp-camera-3g-blue-free-case-86786833.html\"\n",
        "\n",
        "r = requests.get(url)\n",
        "\n",
        "# print(r.text[0:500])"
      ]
    },
    {
      "cell_type": "code",
      "execution_count": null,
      "id": "fe6f0d20-af61-4ce9-b940-e9dcad38d13a",
      "metadata": {
        "id": "fe6f0d20-af61-4ce9-b940-e9dcad38d13a"
      },
      "outputs": [],
      "source": [
        "from bs4 import BeautifulSoup\n",
        "\n",
        "soup = BeautifulSoup(r.text, 'html.parser')\n",
        "soup1= BeautifulSoup(soup.prettify(), 'html.parser')\n",
        "\n",
        "# print(soup1)"
      ]
    },
    {
      "cell_type": "code",
      "execution_count": null,
      "id": "2e225fa7-e5bd-489a-b69f-c15e6013a7bf",
      "metadata": {
        "id": "2e225fa7-e5bd-489a-b69f-c15e6013a7bf",
        "outputId": "8587427a-bc29-42bc-c52e-9a1bdc114be9"
      },
      "outputs": [
        {
          "name": "stdout",
          "output_type": "stream",
          "text": [
            "Itel A33 Plus 5.0\" Screen, Android 11, 16GB ROM + 1GB RAM, 3020mAh Battery, Fingerprint, 5+2MP Camera, 3G - Blue + FREE CASE\n"
          ]
        }
      ],
      "source": [
        "title = soup1.find('h1', '-fs20 -pts -pbxs').text\n",
        "title = title.strip()\n",
        "print(title)"
      ]
    },
    {
      "cell_type": "code",
      "execution_count": null,
      "id": "83347d3d-1068-4d9a-aee8-b03dade4a399",
      "metadata": {
        "id": "83347d3d-1068-4d9a-aee8-b03dade4a399",
        "outputId": "093a66b5-9f0f-4472-fc31-0ee7f19d0e4c"
      },
      "outputs": [
        {
          "name": "stdout",
          "output_type": "stream",
          "text": [
            " 27,800\n"
          ]
        }
      ],
      "source": [
        "price = soup1.find('span', '-b -ltr -tal -fs24').text\n",
        "price = price.strip()[1:]\n",
        "print(price)"
      ]
    },
    {
      "cell_type": "code",
      "execution_count": null,
      "id": "ef5146c7-219f-4d23-942f-b88ff5718572",
      "metadata": {
        "id": "ef5146c7-219f-4d23-942f-b88ff5718572"
      },
      "outputs": [],
      "source": [
        "header = ['Title', 'Price']\n",
        "data = [title, price]"
      ]
    },
    {
      "cell_type": "code",
      "execution_count": null,
      "id": "d513f059-2060-4b02-b777-10d9441cc87e",
      "metadata": {
        "id": "d513f059-2060-4b02-b777-10d9441cc87e"
      },
      "outputs": [],
      "source": [
        "import csv\n",
        "\n",
        "with open('JumiaWebscrapeDataset.csv', 'w', newline='', encoding='UTF-8') as f:\n",
        "    writer = csv.writer(f)\n",
        "    writer.writerow(header)\n",
        "    writer.writerow(data)"
      ]
    },
    {
      "cell_type": "code",
      "execution_count": null,
      "id": "0cb1e566-b5d7-4362-9c0a-c2ad20afdd32",
      "metadata": {
        "id": "0cb1e566-b5d7-4362-9c0a-c2ad20afdd32",
        "outputId": "7a991c6e-62df-4f51-ab22-bc33f62a6459"
      },
      "outputs": [
        {
          "data": {
            "text/html": [
              "<div>\n",
              "<style scoped>\n",
              "    .dataframe tbody tr th:only-of-type {\n",
              "        vertical-align: middle;\n",
              "    }\n",
              "\n",
              "    .dataframe tbody tr th {\n",
              "        vertical-align: top;\n",
              "    }\n",
              "\n",
              "    .dataframe thead th {\n",
              "        text-align: right;\n",
              "    }\n",
              "</style>\n",
              "<table border=\"1\" class=\"dataframe\">\n",
              "  <thead>\n",
              "    <tr style=\"text-align: right;\">\n",
              "      <th></th>\n",
              "      <th>Title</th>\n",
              "      <th>Price</th>\n",
              "    </tr>\n",
              "  </thead>\n",
              "  <tbody>\n",
              "    <tr>\n",
              "      <th>0</th>\n",
              "      <td>Itel A33 Plus 5.0\" Screen, Android 11, 16GB RO...</td>\n",
              "      <td>27,800</td>\n",
              "    </tr>\n",
              "  </tbody>\n",
              "</table>\n",
              "</div>"
            ],
            "text/plain": [
              "                                               Title    Price\n",
              "0  Itel A33 Plus 5.0\" Screen, Android 11, 16GB RO...   27,800"
            ]
          },
          "execution_count": 16,
          "metadata": {},
          "output_type": "execute_result"
        }
      ],
      "source": [
        "import pandas as pd\n",
        "\n",
        "df = pd.read_csv(r'C:\\Users\\Cloud\\JumiaWebscrapeDataset.csv')\n",
        "df"
      ]
    },
    {
      "cell_type": "code",
      "execution_count": null,
      "id": "e8a64bd6-0e40-4216-8cb9-fca66f09ec43",
      "metadata": {
        "id": "e8a64bd6-0e40-4216-8cb9-fca66f09ec43"
      },
      "outputs": [],
      "source": [
        ""
      ]
    }
  ],
  "metadata": {
    "kernelspec": {
      "display_name": "Python 3 (ipykernel)",
      "language": "python",
      "name": "python3"
    },
    "language_info": {
      "codemirror_mode": {
        "name": "ipython",
        "version": 3
      },
      "file_extension": ".py",
      "mimetype": "text/x-python",
      "name": "python",
      "nbconvert_exporter": "python",
      "pygments_lexer": "ipython3",
      "version": "3.10.1"
    },
    "colab": {
      "name": "Jumia Webscraping.ipynb",
      "provenance": [],
      "include_colab_link": true
    }
  },
  "nbformat": 4,
  "nbformat_minor": 5
}
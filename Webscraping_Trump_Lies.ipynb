{
  "nbformat": 4,
  "nbformat_minor": 0,
  "metadata": {
    "colab": {
      "name": "Webscraping Trump Lies.ipynb",
      "provenance": [],
      "authorship_tag": "ABX9TyNCuxRFom2kN5+rMjFL9jYP"
    },
    "kernelspec": {
      "name": "python3",
      "display_name": "Python 3"
    },
    "language_info": {
      "name": "python"
    }
  },
  "cells": [
    {
      "cell_type": "markdown",
      "source": [
        "A program to scrap President Trump Lies from a New York Article in 2017 using Python Beautiful Soup Library"
      ],
      "metadata": {
        "id": "MZetAMy-uIE7"
      }
    },
    {
      "cell_type": "markdown",
      "source": [
        "Read the webpage\n"
      ],
      "metadata": {
        "id": "Ao-LBfUnwreI"
      }
    },
    {
      "cell_type": "code",
      "execution_count": 2,
      "metadata": {
        "id": "Hc3wYNSItoTc"
      },
      "outputs": [],
      "source": [
        "# Install and import the required package to fetch the url\n",
        "import requests\n",
        "\n",
        "# Assign the url content to a response object 'r'\n",
        "r = requests.get('https://www.nytimes.com/interactive/2017/06/23/opinion/trumps-lies.html')\n",
        "\n"
      ]
    },
    {
      "cell_type": "code",
      "source": [
        "# check the first 500 characters from the article\n",
        "\n",
        "print(r.text[0:500])"
      ],
      "metadata": {
        "colab": {
          "base_uri": "https://localhost:8080/"
        },
        "id": "ZsWkUL0Mvn1k",
        "outputId": "73fe5b92-4df2-4e5e-ad57-43001dad12b5"
      },
      "execution_count": 3,
      "outputs": [
        {
          "output_type": "stream",
          "name": "stdout",
          "text": [
            "<!DOCTYPE html>\n",
            "<!--[if (gt IE 9)|!(IE)]> <!--><html lang=\"en\" class=\"no-js page-interactive section-opinion page-theme-standard tone-opinion page-interactive-default limit-small layout-xlarge app-interactive\" itemid=\"https://www.nytimes.com/interactive/2017/06/23/opinion/trumps-lies.html\" itemtype=\"http://schema.org/NewsArticle\" itemscope xmlns:og=\"http://opengraphprotocol.org/schema/\"><!--<![endif]-->\n",
            "<!--[if IE 9]> <html lang=\"en\" class=\"no-js ie9 lt-ie10 page-interactive section-opinion page\n"
          ]
        }
      ]
    },
    {
      "cell_type": "markdown",
      "source": [
        "Parse the html\n"
      ],
      "metadata": {
        "id": "zFz2ui6Hwxjc"
      }
    },
    {
      "cell_type": "code",
      "source": [
        "# parse the html code using the beautifulsoup library\n",
        "\n",
        "from bs4 import BeautifulSoup\n",
        "\n",
        "soup = BeautifulSoup(r.text, 'html.parser')"
      ],
      "metadata": {
        "id": "Ge1EA3jhwJQc"
      },
      "execution_count": 4,
      "outputs": []
    },
    {
      "cell_type": "markdown",
      "source": [
        "Collect all of the records"
      ],
      "metadata": {
        "id": "zloXJOuCzmdo"
      }
    },
    {
      "cell_type": "code",
      "source": [
        "results = soup.find_all('span', attrs={'class':'short-desc'})"
      ],
      "metadata": {
        "id": "S-o3fbJJzhTr"
      },
      "execution_count": 5,
      "outputs": []
    },
    {
      "cell_type": "code",
      "source": [
        "# check the length of the record\n",
        "len(results)"
      ],
      "metadata": {
        "colab": {
          "base_uri": "https://localhost:8080/"
        },
        "id": "bFlbU5b4zqMB",
        "outputId": "465e0c8c-3d23-422e-ea1a-cdd4df9c42b2"
      },
      "execution_count": 6,
      "outputs": [
        {
          "output_type": "execute_result",
          "data": {
            "text/plain": [
              "180"
            ]
          },
          "metadata": {},
          "execution_count": 6
        }
      ]
    },
    {
      "cell_type": "code",
      "source": [
        "# examine the first three records\n",
        "\n",
        "results[0:3]"
      ],
      "metadata": {
        "colab": {
          "base_uri": "https://localhost:8080/"
        },
        "id": "703T1fdC4hBP",
        "outputId": "337db3dd-4ae4-498d-de63-855277d85bee"
      },
      "execution_count": 7,
      "outputs": [
        {
          "output_type": "execute_result",
          "data": {
            "text/plain": [
              "[<span class=\"short-desc\"><strong>Jan. 21 </strong>“I wasn't a fan of Iraq. I didn't want to go into Iraq.” <span class=\"short-truth\"><a href=\"https://www.buzzfeed.com/andrewkaczynski/in-2002-donald-trump-said-he-supported-invading-iraq-on-the\" target=\"_blank\">(He was for an invasion before he was against it.)</a></span></span>,\n",
              " <span class=\"short-desc\"><strong>Jan. 21 </strong>“A reporter for Time magazine — and I have been on their cover 14 or 15 times. I think we have the all-time record in the history of Time magazine.” <span class=\"short-truth\"><a href=\"http://nation.time.com/2013/11/06/10-things-you-didnt-know-about-time/\" target=\"_blank\">(Trump was on the cover 11 times and Nixon appeared 55 times.)</a></span></span>,\n",
              " <span class=\"short-desc\"><strong>Jan. 23 </strong>“Between 3 million and 5 million illegal votes caused me to lose the popular vote.” <span class=\"short-truth\"><a href=\"https://www.nytimes.com/2017/01/23/us/politics/donald-trump-congress-democrats.html\" target=\"_blank\">(There's no evidence of illegal voting.)</a></span></span>]"
            ]
          },
          "metadata": {},
          "execution_count": 7
        }
      ]
    },
    {
      "cell_type": "code",
      "source": [
        "# examine the last record\n",
        "\n",
        "results[-1]"
      ],
      "metadata": {
        "colab": {
          "base_uri": "https://localhost:8080/"
        },
        "id": "SjKVmDkT5MFG",
        "outputId": "bf93d666-417b-40be-8d27-0a4335594120"
      },
      "execution_count": 8,
      "outputs": [
        {
          "output_type": "execute_result",
          "data": {
            "text/plain": [
              "<span class=\"short-desc\"><strong>Nov. 11 </strong>“I'd rather have him  – you know, work with him on the Ukraine than standing and arguing about whether or not  – because that whole thing was set up by the Democrats.” <span class=\"short-truth\"><a href=\"https://www.nytimes.com/interactive/2017/12/10/us/politics/trump-and-russia.html\" target=\"_blank\">(There is no evidence that Democrats \"set up\" Russian interference in the election.)</a></span></span>"
            ]
          },
          "metadata": {},
          "execution_count": 8
        }
      ]
    },
    {
      "cell_type": "markdown",
      "source": [
        "Extracting the records components"
      ],
      "metadata": {
        "id": "ONsJCSX75t_N"
      }
    },
    {
      "cell_type": "markdown",
      "source": [
        "Extract the date"
      ],
      "metadata": {
        "id": "0gjFI8sc55ee"
      }
    },
    {
      "cell_type": "code",
      "source": [
        "# view the first record\n",
        "first_result = results[0]\n",
        "first_result"
      ],
      "metadata": {
        "colab": {
          "base_uri": "https://localhost:8080/"
        },
        "id": "-L4oNwHz5Zer",
        "outputId": "b0f423d5-bc2a-4e7d-a7bb-c64a6e35b3da"
      },
      "execution_count": 9,
      "outputs": [
        {
          "output_type": "execute_result",
          "data": {
            "text/plain": [
              "<span class=\"short-desc\"><strong>Jan. 21 </strong>“I wasn't a fan of Iraq. I didn't want to go into Iraq.” <span class=\"short-truth\"><a href=\"https://www.buzzfeed.com/andrewkaczynski/in-2002-donald-trump-said-he-supported-invading-iraq-on-the\" target=\"_blank\">(He was for an invasion before he was against it.)</a></span></span>"
            ]
          },
          "metadata": {},
          "execution_count": 9
        }
      ]
    },
    {
      "cell_type": "code",
      "source": [
        "# find the strong tag which contains the date\n",
        "first_result.find('strong')"
      ],
      "metadata": {
        "colab": {
          "base_uri": "https://localhost:8080/"
        },
        "id": "jGsZYgbD5xvh",
        "outputId": "487e95d8-03ed-446e-e851-37e162cc3567"
      },
      "execution_count": 10,
      "outputs": [
        {
          "output_type": "execute_result",
          "data": {
            "text/plain": [
              "<strong>Jan. 21 </strong>"
            ]
          },
          "metadata": {},
          "execution_count": 10
        }
      ]
    },
    {
      "cell_type": "code",
      "source": [
        "# fetch the date as a python string\n",
        "first_result.find('strong').text"
      ],
      "metadata": {
        "colab": {
          "base_uri": "https://localhost:8080/",
          "height": 35
        },
        "id": "DIi2u-xcpsr2",
        "outputId": "a719960e-0d46-4a08-f0cd-cf1d84b9b068"
      },
      "execution_count": 11,
      "outputs": [
        {
          "output_type": "execute_result",
          "data": {
            "text/plain": [
              "'Jan. 21\\xa0'"
            ],
            "application/vnd.google.colaboratory.intrinsic+json": {
              "type": "string"
            }
          },
          "metadata": {},
          "execution_count": 11
        }
      ]
    },
    {
      "cell_type": "code",
      "source": [
        "# use string slicing to remove the escape sequence which represents a single character\n",
        "first_result.find('strong').text[0:-1]"
      ],
      "metadata": {
        "colab": {
          "base_uri": "https://localhost:8080/",
          "height": 35
        },
        "id": "Ft8C4q-VqJ-a",
        "outputId": "0f490d0e-a99d-4bcd-f5e1-cac451936f01"
      },
      "execution_count": 12,
      "outputs": [
        {
          "output_type": "execute_result",
          "data": {
            "text/plain": [
              "'Jan. 21'"
            ],
            "application/vnd.google.colaboratory.intrinsic+json": {
              "type": "string"
            }
          },
          "metadata": {},
          "execution_count": 12
        }
      ]
    },
    {
      "cell_type": "code",
      "source": [
        "# add the year to avoid ambiguity\n",
        "first_result.find('strong').text[0:-1] + ', 2017'"
      ],
      "metadata": {
        "colab": {
          "base_uri": "https://localhost:8080/",
          "height": 35
        },
        "id": "BmEvgg3eqmIQ",
        "outputId": "190b801a-76aa-404d-a60a-da6251a255e8"
      },
      "execution_count": 13,
      "outputs": [
        {
          "output_type": "execute_result",
          "data": {
            "text/plain": [
              "'Jan. 21, 2017'"
            ],
            "application/vnd.google.colaboratory.intrinsic+json": {
              "type": "string"
            }
          },
          "metadata": {},
          "execution_count": 13
        }
      ]
    },
    {
      "cell_type": "markdown",
      "source": [
        "Extract the Lies"
      ],
      "metadata": {
        "id": "plR438TVrPyx"
      }
    },
    {
      "cell_type": "code",
      "source": [
        "# view the first record\n",
        "first_result"
      ],
      "metadata": {
        "colab": {
          "base_uri": "https://localhost:8080/"
        },
        "id": "wXsgM7Q9rNsY",
        "outputId": "14f9bae2-358f-4323-8571-11f5679812d4"
      },
      "execution_count": 14,
      "outputs": [
        {
          "output_type": "execute_result",
          "data": {
            "text/plain": [
              "<span class=\"short-desc\"><strong>Jan. 21 </strong>“I wasn't a fan of Iraq. I didn't want to go into Iraq.” <span class=\"short-truth\"><a href=\"https://www.buzzfeed.com/andrewkaczynski/in-2002-donald-trump-said-he-supported-invading-iraq-on-the\" target=\"_blank\">(He was for an invasion before he was against it.)</a></span></span>"
            ]
          },
          "metadata": {},
          "execution_count": 14
        }
      ]
    },
    {
      "cell_type": "code",
      "source": [
        "# get the children of the first record\n",
        "first_result.contents"
      ],
      "metadata": {
        "colab": {
          "base_uri": "https://localhost:8080/"
        },
        "id": "q2p-t7-krUmX",
        "outputId": "0bef205d-34e1-4258-d10f-613dc01d1ea1"
      },
      "execution_count": 15,
      "outputs": [
        {
          "output_type": "execute_result",
          "data": {
            "text/plain": [
              "[<strong>Jan. 21 </strong>,\n",
              " \"“I wasn't a fan of Iraq. I didn't want to go into Iraq.” \",\n",
              " <span class=\"short-truth\"><a href=\"https://www.buzzfeed.com/andrewkaczynski/in-2002-donald-trump-said-he-supported-invading-iraq-on-the\" target=\"_blank\">(He was for an invasion before he was against it.)</a></span>]"
            ]
          },
          "metadata": {},
          "execution_count": 15
        }
      ]
    },
    {
      "cell_type": "code",
      "source": [
        "# slice the list to obtain the second element\n",
        "first_result.contents[1]"
      ],
      "metadata": {
        "colab": {
          "base_uri": "https://localhost:8080/",
          "height": 35
        },
        "id": "ErrJYDdq3kjy",
        "outputId": "b2c9d902-1ba8-4b30-cf30-5bce67de77e4"
      },
      "execution_count": 16,
      "outputs": [
        {
          "output_type": "execute_result",
          "data": {
            "text/plain": [
              "\"“I wasn't a fan of Iraq. I didn't want to go into Iraq.” \""
            ],
            "application/vnd.google.colaboratory.intrinsic+json": {
              "type": "string"
            }
          },
          "metadata": {},
          "execution_count": 16
        }
      ]
    },
    {
      "cell_type": "code",
      "source": [
        "# slice the string remove the quotation marks and the space at the end\n",
        "first_result.contents[1][1:-2]"
      ],
      "metadata": {
        "colab": {
          "base_uri": "https://localhost:8080/",
          "height": 35
        },
        "id": "kGnT9FM63_tJ",
        "outputId": "f60c87c7-dce1-4dc5-df19-6844dadad980"
      },
      "execution_count": 17,
      "outputs": [
        {
          "output_type": "execute_result",
          "data": {
            "text/plain": [
              "\"I wasn't a fan of Iraq. I didn't want to go into Iraq.\""
            ],
            "application/vnd.google.colaboratory.intrinsic+json": {
              "type": "string"
            }
          },
          "metadata": {},
          "execution_count": 17
        }
      ]
    },
    {
      "cell_type": "markdown",
      "source": [
        "Extract the explanation"
      ],
      "metadata": {
        "id": "EkDS3UMw5oZ3"
      }
    },
    {
      "cell_type": "code",
      "source": [
        "# slice the list to obtain the third element\n",
        "first_result.contents[2]"
      ],
      "metadata": {
        "colab": {
          "base_uri": "https://localhost:8080/"
        },
        "id": "MWSY0BLJ5Eei",
        "outputId": "529268eb-b75d-4e0f-8ef6-0fe560312d9a"
      },
      "execution_count": 19,
      "outputs": [
        {
          "output_type": "execute_result",
          "data": {
            "text/plain": [
              "<span class=\"short-truth\"><a href=\"https://www.buzzfeed.com/andrewkaczynski/in-2002-donald-trump-said-he-supported-invading-iraq-on-the\" target=\"_blank\">(He was for an invasion before he was against it.)</a></span>"
            ]
          },
          "metadata": {},
          "execution_count": 19
        }
      ]
    },
    {
      "cell_type": "code",
      "source": [
        "# find the tag sorrounding the explanation\n",
        "first_result.find('a')"
      ],
      "metadata": {
        "colab": {
          "base_uri": "https://localhost:8080/"
        },
        "id": "dR4SpcRz5yRd",
        "outputId": "702d812a-4b11-41ae-d90f-9721c328efa1"
      },
      "execution_count": 20,
      "outputs": [
        {
          "output_type": "execute_result",
          "data": {
            "text/plain": [
              "<a href=\"https://www.buzzfeed.com/andrewkaczynski/in-2002-donald-trump-said-he-supported-invading-iraq-on-the\" target=\"_blank\">(He was for an invasion before he was against it.)</a>"
            ]
          },
          "metadata": {},
          "execution_count": 20
        }
      ]
    },
    {
      "cell_type": "code",
      "source": [
        "# get the text attribute of the tag\n",
        "first_result.find('a').text"
      ],
      "metadata": {
        "colab": {
          "base_uri": "https://localhost:8080/",
          "height": 35
        },
        "id": "Iocx9aRL6TSm",
        "outputId": "8a8c2705-ee49-4c75-c3d5-7c11f0570ee9"
      },
      "execution_count": 21,
      "outputs": [
        {
          "output_type": "execute_result",
          "data": {
            "text/plain": [
              "'(He was for an invasion before he was against it.)'"
            ],
            "application/vnd.google.colaboratory.intrinsic+json": {
              "type": "string"
            }
          },
          "metadata": {},
          "execution_count": 21
        }
      ]
    },
    {
      "cell_type": "code",
      "source": [
        "# slice off the parentheses\n",
        "first_result.find('a').text[1:-1]"
      ],
      "metadata": {
        "colab": {
          "base_uri": "https://localhost:8080/",
          "height": 35
        },
        "id": "HoUKLx7V6y0e",
        "outputId": "3ac1abd0-9786-48fa-ac0f-3c7c32e2d64f"
      },
      "execution_count": 26,
      "outputs": [
        {
          "output_type": "execute_result",
          "data": {
            "text/plain": [
              "'He was for an invasion before he was against it.'"
            ],
            "application/vnd.google.colaboratory.intrinsic+json": {
              "type": "string"
            }
          },
          "metadata": {},
          "execution_count": 26
        }
      ]
    },
    {
      "cell_type": "markdown",
      "source": [
        "Extract the URL "
      ],
      "metadata": {
        "id": "VDZ-gcoq7-hT"
      }
    },
    {
      "cell_type": "code",
      "source": [
        "# find the 'a' tag\n",
        "first_result.find('a')"
      ],
      "metadata": {
        "colab": {
          "base_uri": "https://localhost:8080/"
        },
        "id": "fLE36k3S7I6m",
        "outputId": "f7a9406c-890e-4068-d06b-4802ce29e44a"
      },
      "execution_count": 27,
      "outputs": [
        {
          "output_type": "execute_result",
          "data": {
            "text/plain": [
              "<a href=\"https://www.buzzfeed.com/andrewkaczynski/in-2002-donald-trump-said-he-supported-invading-iraq-on-the\" target=\"_blank\">(He was for an invasion before he was against it.)</a>"
            ]
          },
          "metadata": {},
          "execution_count": 27
        }
      ]
    },
    {
      "cell_type": "code",
      "source": [
        "# get the url\n",
        "first_result.find('a')['href']"
      ],
      "metadata": {
        "colab": {
          "base_uri": "https://localhost:8080/",
          "height": 35
        },
        "id": "0mhZjRyF8f4u",
        "outputId": "a7d25c91-b1f1-4e0a-86bb-155494c9be2b"
      },
      "execution_count": 28,
      "outputs": [
        {
          "output_type": "execute_result",
          "data": {
            "text/plain": [
              "'https://www.buzzfeed.com/andrewkaczynski/in-2002-donald-trump-said-he-supported-invading-iraq-on-the'"
            ],
            "application/vnd.google.colaboratory.intrinsic+json": {
              "type": "string"
            }
          },
          "metadata": {},
          "execution_count": 28
        }
      ]
    },
    {
      "cell_type": "markdown",
      "source": [
        "Building the dataset"
      ],
      "metadata": {
        "id": "Q6TCnP929ifE"
      }
    },
    {
      "cell_type": "code",
      "source": [
        "# loop through the records\n",
        "\n",
        "records = []\n",
        "\n",
        "for result in results:\n",
        "  date = result.find('strong').text[0:-1] + ', 2017'\n",
        "  lies = result.contents[1][1:-2]\n",
        "  explanation = result.find('a').text[1:-1]\n",
        "  url = result.find('a')['href']\n",
        "  records.append((date, lies, explanation, url))\n"
      ],
      "metadata": {
        "id": "4L8MUWlt8opS"
      },
      "execution_count": 32,
      "outputs": []
    },
    {
      "cell_type": "code",
      "source": [
        "# check the length of the records\n",
        "len(records)"
      ],
      "metadata": {
        "colab": {
          "base_uri": "https://localhost:8080/"
        },
        "id": "s1lJWP1u9mv6",
        "outputId": "0cd6e08e-934c-46df-b273-b043af3b68cf"
      },
      "execution_count": 33,
      "outputs": [
        {
          "output_type": "execute_result",
          "data": {
            "text/plain": [
              "180"
            ]
          },
          "metadata": {},
          "execution_count": 33
        }
      ]
    },
    {
      "cell_type": "code",
      "source": [
        "records[0:3]"
      ],
      "metadata": {
        "colab": {
          "base_uri": "https://localhost:8080/"
        },
        "id": "Dx6IilDWC7WV",
        "outputId": "52059895-5685-414d-c56f-1dc9ca207244"
      },
      "execution_count": 34,
      "outputs": [
        {
          "output_type": "execute_result",
          "data": {
            "text/plain": [
              "[('Jan. 21, 2017',\n",
              "  \"I wasn't a fan of Iraq. I didn't want to go into Iraq.\",\n",
              "  'He was for an invasion before he was against it.',\n",
              "  'https://www.buzzfeed.com/andrewkaczynski/in-2002-donald-trump-said-he-supported-invading-iraq-on-the'),\n",
              " ('Jan. 21, 2017',\n",
              "  'A reporter for Time magazine — and I have been on their cover 14 or 15 times. I think we have the all-time record in the history of Time magazine.',\n",
              "  'Trump was on the cover 11 times and Nixon appeared 55 times.',\n",
              "  'http://nation.time.com/2013/11/06/10-things-you-didnt-know-about-time/'),\n",
              " ('Jan. 23, 2017',\n",
              "  'Between 3 million and 5 million illegal votes caused me to lose the popular vote.',\n",
              "  \"There's no evidence of illegal voting.\",\n",
              "  'https://www.nytimes.com/2017/01/23/us/politics/donald-trump-congress-democrats.html')]"
            ]
          },
          "metadata": {},
          "execution_count": 34
        }
      ]
    },
    {
      "cell_type": "markdown",
      "source": [
        "Apply tabular structure"
      ],
      "metadata": {
        "id": "FuKRE-A-IbPP"
      }
    },
    {
      "cell_type": "code",
      "source": [
        "# use the pandas library\n",
        "import pandas as pd\n",
        "\n",
        "df = pd.DataFrame(records, columns=['date', 'lies', 'explanation', 'url'])"
      ],
      "metadata": {
        "id": "_tqmu4BPC-Ps"
      },
      "execution_count": 35,
      "outputs": []
    },
    {
      "cell_type": "code",
      "source": [
        "# examine the first five records in the dataframe\n",
        "df.head()"
      ],
      "metadata": {
        "colab": {
          "base_uri": "https://localhost:8080/",
          "height": 250
        },
        "id": "_BnXgJdUI-Ub",
        "outputId": "93fbad6a-021a-4848-8759-c7067f4bb9e0"
      },
      "execution_count": 36,
      "outputs": [
        {
          "output_type": "execute_result",
          "data": {
            "text/plain": [
              "            date                                               lies  \\\n",
              "0  Jan. 21, 2017  I wasn't a fan of Iraq. I didn't want to go in...   \n",
              "1  Jan. 21, 2017  A reporter for Time magazine — and I have been...   \n",
              "2  Jan. 23, 2017  Between 3 million and 5 million illegal votes ...   \n",
              "3  Jan. 25, 2017  Now, the audience was the biggest ever. But th...   \n",
              "4  Jan. 25, 2017  Take a look at the Pew reports (which show vot...   \n",
              "\n",
              "                                         explanation  \\\n",
              "0   He was for an invasion before he was against it.   \n",
              "1  Trump was on the cover 11 times and Nixon appe...   \n",
              "2             There's no evidence of illegal voting.   \n",
              "3  Official aerial photos show Obama's 2009 inaug...   \n",
              "4            The report never mentioned voter fraud.   \n",
              "\n",
              "                                                 url  \n",
              "0  https://www.buzzfeed.com/andrewkaczynski/in-20...  \n",
              "1  http://nation.time.com/2013/11/06/10-things-yo...  \n",
              "2  https://www.nytimes.com/2017/01/23/us/politics...  \n",
              "3  https://www.nytimes.com/2017/01/21/us/politics...  \n",
              "4  https://www.nytimes.com/2017/01/24/us/politics...  "
            ],
            "text/html": [
              "\n",
              "  <div id=\"df-164b7fbb-1c46-44ed-bf68-e2b1b12f0ef9\">\n",
              "    <div class=\"colab-df-container\">\n",
              "      <div>\n",
              "<style scoped>\n",
              "    .dataframe tbody tr th:only-of-type {\n",
              "        vertical-align: middle;\n",
              "    }\n",
              "\n",
              "    .dataframe tbody tr th {\n",
              "        vertical-align: top;\n",
              "    }\n",
              "\n",
              "    .dataframe thead th {\n",
              "        text-align: right;\n",
              "    }\n",
              "</style>\n",
              "<table border=\"1\" class=\"dataframe\">\n",
              "  <thead>\n",
              "    <tr style=\"text-align: right;\">\n",
              "      <th></th>\n",
              "      <th>date</th>\n",
              "      <th>lies</th>\n",
              "      <th>explanation</th>\n",
              "      <th>url</th>\n",
              "    </tr>\n",
              "  </thead>\n",
              "  <tbody>\n",
              "    <tr>\n",
              "      <th>0</th>\n",
              "      <td>Jan. 21, 2017</td>\n",
              "      <td>I wasn't a fan of Iraq. I didn't want to go in...</td>\n",
              "      <td>He was for an invasion before he was against it.</td>\n",
              "      <td>https://www.buzzfeed.com/andrewkaczynski/in-20...</td>\n",
              "    </tr>\n",
              "    <tr>\n",
              "      <th>1</th>\n",
              "      <td>Jan. 21, 2017</td>\n",
              "      <td>A reporter for Time magazine — and I have been...</td>\n",
              "      <td>Trump was on the cover 11 times and Nixon appe...</td>\n",
              "      <td>http://nation.time.com/2013/11/06/10-things-yo...</td>\n",
              "    </tr>\n",
              "    <tr>\n",
              "      <th>2</th>\n",
              "      <td>Jan. 23, 2017</td>\n",
              "      <td>Between 3 million and 5 million illegal votes ...</td>\n",
              "      <td>There's no evidence of illegal voting.</td>\n",
              "      <td>https://www.nytimes.com/2017/01/23/us/politics...</td>\n",
              "    </tr>\n",
              "    <tr>\n",
              "      <th>3</th>\n",
              "      <td>Jan. 25, 2017</td>\n",
              "      <td>Now, the audience was the biggest ever. But th...</td>\n",
              "      <td>Official aerial photos show Obama's 2009 inaug...</td>\n",
              "      <td>https://www.nytimes.com/2017/01/21/us/politics...</td>\n",
              "    </tr>\n",
              "    <tr>\n",
              "      <th>4</th>\n",
              "      <td>Jan. 25, 2017</td>\n",
              "      <td>Take a look at the Pew reports (which show vot...</td>\n",
              "      <td>The report never mentioned voter fraud.</td>\n",
              "      <td>https://www.nytimes.com/2017/01/24/us/politics...</td>\n",
              "    </tr>\n",
              "  </tbody>\n",
              "</table>\n",
              "</div>\n",
              "      <button class=\"colab-df-convert\" onclick=\"convertToInteractive('df-164b7fbb-1c46-44ed-bf68-e2b1b12f0ef9')\"\n",
              "              title=\"Convert this dataframe to an interactive table.\"\n",
              "              style=\"display:none;\">\n",
              "        \n",
              "  <svg xmlns=\"http://www.w3.org/2000/svg\" height=\"24px\"viewBox=\"0 0 24 24\"\n",
              "       width=\"24px\">\n",
              "    <path d=\"M0 0h24v24H0V0z\" fill=\"none\"/>\n",
              "    <path d=\"M18.56 5.44l.94 2.06.94-2.06 2.06-.94-2.06-.94-.94-2.06-.94 2.06-2.06.94zm-11 1L8.5 8.5l.94-2.06 2.06-.94-2.06-.94L8.5 2.5l-.94 2.06-2.06.94zm10 10l.94 2.06.94-2.06 2.06-.94-2.06-.94-.94-2.06-.94 2.06-2.06.94z\"/><path d=\"M17.41 7.96l-1.37-1.37c-.4-.4-.92-.59-1.43-.59-.52 0-1.04.2-1.43.59L10.3 9.45l-7.72 7.72c-.78.78-.78 2.05 0 2.83L4 21.41c.39.39.9.59 1.41.59.51 0 1.02-.2 1.41-.59l7.78-7.78 2.81-2.81c.8-.78.8-2.07 0-2.86zM5.41 20L4 18.59l7.72-7.72 1.47 1.35L5.41 20z\"/>\n",
              "  </svg>\n",
              "      </button>\n",
              "      \n",
              "  <style>\n",
              "    .colab-df-container {\n",
              "      display:flex;\n",
              "      flex-wrap:wrap;\n",
              "      gap: 12px;\n",
              "    }\n",
              "\n",
              "    .colab-df-convert {\n",
              "      background-color: #E8F0FE;\n",
              "      border: none;\n",
              "      border-radius: 50%;\n",
              "      cursor: pointer;\n",
              "      display: none;\n",
              "      fill: #1967D2;\n",
              "      height: 32px;\n",
              "      padding: 0 0 0 0;\n",
              "      width: 32px;\n",
              "    }\n",
              "\n",
              "    .colab-df-convert:hover {\n",
              "      background-color: #E2EBFA;\n",
              "      box-shadow: 0px 1px 2px rgba(60, 64, 67, 0.3), 0px 1px 3px 1px rgba(60, 64, 67, 0.15);\n",
              "      fill: #174EA6;\n",
              "    }\n",
              "\n",
              "    [theme=dark] .colab-df-convert {\n",
              "      background-color: #3B4455;\n",
              "      fill: #D2E3FC;\n",
              "    }\n",
              "\n",
              "    [theme=dark] .colab-df-convert:hover {\n",
              "      background-color: #434B5C;\n",
              "      box-shadow: 0px 1px 3px 1px rgba(0, 0, 0, 0.15);\n",
              "      filter: drop-shadow(0px 1px 2px rgba(0, 0, 0, 0.3));\n",
              "      fill: #FFFFFF;\n",
              "    }\n",
              "  </style>\n",
              "\n",
              "      <script>\n",
              "        const buttonEl =\n",
              "          document.querySelector('#df-164b7fbb-1c46-44ed-bf68-e2b1b12f0ef9 button.colab-df-convert');\n",
              "        buttonEl.style.display =\n",
              "          google.colab.kernel.accessAllowed ? 'block' : 'none';\n",
              "\n",
              "        async function convertToInteractive(key) {\n",
              "          const element = document.querySelector('#df-164b7fbb-1c46-44ed-bf68-e2b1b12f0ef9');\n",
              "          const dataTable =\n",
              "            await google.colab.kernel.invokeFunction('convertToInteractive',\n",
              "                                                     [key], {});\n",
              "          if (!dataTable) return;\n",
              "\n",
              "          const docLinkHtml = 'Like what you see? Visit the ' +\n",
              "            '<a target=\"_blank\" href=https://colab.research.google.com/notebooks/data_table.ipynb>data table notebook</a>'\n",
              "            + ' to learn more about interactive tables.';\n",
              "          element.innerHTML = '';\n",
              "          dataTable['output_type'] = 'display_data';\n",
              "          await google.colab.output.renderOutput(dataTable, element);\n",
              "          const docLink = document.createElement('div');\n",
              "          docLink.innerHTML = docLinkHtml;\n",
              "          element.appendChild(docLink);\n",
              "        }\n",
              "      </script>\n",
              "    </div>\n",
              "  </div>\n",
              "  "
            ]
          },
          "metadata": {},
          "execution_count": 36
        }
      ]
    },
    {
      "cell_type": "code",
      "source": [
        "# examine the last five records in the dataframe\n",
        "df.tail()"
      ],
      "metadata": {
        "colab": {
          "base_uri": "https://localhost:8080/",
          "height": 250
        },
        "id": "fnCsvWKoJAnr",
        "outputId": "2e018d3b-39db-49db-d9f1-80bd2e67e253"
      },
      "execution_count": 37,
      "outputs": [
        {
          "output_type": "execute_result",
          "data": {
            "text/plain": [
              "              date                                               lies  \\\n",
              "175  Oct. 25, 2017      We have trade deficits with almost everybody.   \n",
              "176  Oct. 27, 2017  Wacky & totally unhinged Tom Steyer, who has b...   \n",
              "177   Nov. 1, 2017  Again, we're the highest-taxed nation, just ab...   \n",
              "178   Nov. 7, 2017  When you look at the city with the strongest g...   \n",
              "179  Nov. 11, 2017  I'd rather have him  – you know, work with him...   \n",
              "\n",
              "                                           explanation  \\\n",
              "175  We have trade surpluses with more than 100 cou...   \n",
              "176  Steyer has financially supported many winning ...   \n",
              "177                                         We're not.   \n",
              "178  Several other cities, including New York and L...   \n",
              "179  There is no evidence that Democrats \"set up\" R...   \n",
              "\n",
              "                                                   url  \n",
              "175  https://www.bea.gov/newsreleases/international...  \n",
              "176  https://www.opensecrets.org/donor-lookup/resul...  \n",
              "177  http://www.politifact.com/truth-o-meter/statem...  \n",
              "178  http://www.politifact.com/truth-o-meter/statem...  \n",
              "179  https://www.nytimes.com/interactive/2017/12/10...  "
            ],
            "text/html": [
              "\n",
              "  <div id=\"df-f06b8c6a-6e04-439e-b06b-9a12e4131912\">\n",
              "    <div class=\"colab-df-container\">\n",
              "      <div>\n",
              "<style scoped>\n",
              "    .dataframe tbody tr th:only-of-type {\n",
              "        vertical-align: middle;\n",
              "    }\n",
              "\n",
              "    .dataframe tbody tr th {\n",
              "        vertical-align: top;\n",
              "    }\n",
              "\n",
              "    .dataframe thead th {\n",
              "        text-align: right;\n",
              "    }\n",
              "</style>\n",
              "<table border=\"1\" class=\"dataframe\">\n",
              "  <thead>\n",
              "    <tr style=\"text-align: right;\">\n",
              "      <th></th>\n",
              "      <th>date</th>\n",
              "      <th>lies</th>\n",
              "      <th>explanation</th>\n",
              "      <th>url</th>\n",
              "    </tr>\n",
              "  </thead>\n",
              "  <tbody>\n",
              "    <tr>\n",
              "      <th>175</th>\n",
              "      <td>Oct. 25, 2017</td>\n",
              "      <td>We have trade deficits with almost everybody.</td>\n",
              "      <td>We have trade surpluses with more than 100 cou...</td>\n",
              "      <td>https://www.bea.gov/newsreleases/international...</td>\n",
              "    </tr>\n",
              "    <tr>\n",
              "      <th>176</th>\n",
              "      <td>Oct. 27, 2017</td>\n",
              "      <td>Wacky &amp; totally unhinged Tom Steyer, who has b...</td>\n",
              "      <td>Steyer has financially supported many winning ...</td>\n",
              "      <td>https://www.opensecrets.org/donor-lookup/resul...</td>\n",
              "    </tr>\n",
              "    <tr>\n",
              "      <th>177</th>\n",
              "      <td>Nov. 1, 2017</td>\n",
              "      <td>Again, we're the highest-taxed nation, just ab...</td>\n",
              "      <td>We're not.</td>\n",
              "      <td>http://www.politifact.com/truth-o-meter/statem...</td>\n",
              "    </tr>\n",
              "    <tr>\n",
              "      <th>178</th>\n",
              "      <td>Nov. 7, 2017</td>\n",
              "      <td>When you look at the city with the strongest g...</td>\n",
              "      <td>Several other cities, including New York and L...</td>\n",
              "      <td>http://www.politifact.com/truth-o-meter/statem...</td>\n",
              "    </tr>\n",
              "    <tr>\n",
              "      <th>179</th>\n",
              "      <td>Nov. 11, 2017</td>\n",
              "      <td>I'd rather have him  – you know, work with him...</td>\n",
              "      <td>There is no evidence that Democrats \"set up\" R...</td>\n",
              "      <td>https://www.nytimes.com/interactive/2017/12/10...</td>\n",
              "    </tr>\n",
              "  </tbody>\n",
              "</table>\n",
              "</div>\n",
              "      <button class=\"colab-df-convert\" onclick=\"convertToInteractive('df-f06b8c6a-6e04-439e-b06b-9a12e4131912')\"\n",
              "              title=\"Convert this dataframe to an interactive table.\"\n",
              "              style=\"display:none;\">\n",
              "        \n",
              "  <svg xmlns=\"http://www.w3.org/2000/svg\" height=\"24px\"viewBox=\"0 0 24 24\"\n",
              "       width=\"24px\">\n",
              "    <path d=\"M0 0h24v24H0V0z\" fill=\"none\"/>\n",
              "    <path d=\"M18.56 5.44l.94 2.06.94-2.06 2.06-.94-2.06-.94-.94-2.06-.94 2.06-2.06.94zm-11 1L8.5 8.5l.94-2.06 2.06-.94-2.06-.94L8.5 2.5l-.94 2.06-2.06.94zm10 10l.94 2.06.94-2.06 2.06-.94-2.06-.94-.94-2.06-.94 2.06-2.06.94z\"/><path d=\"M17.41 7.96l-1.37-1.37c-.4-.4-.92-.59-1.43-.59-.52 0-1.04.2-1.43.59L10.3 9.45l-7.72 7.72c-.78.78-.78 2.05 0 2.83L4 21.41c.39.39.9.59 1.41.59.51 0 1.02-.2 1.41-.59l7.78-7.78 2.81-2.81c.8-.78.8-2.07 0-2.86zM5.41 20L4 18.59l7.72-7.72 1.47 1.35L5.41 20z\"/>\n",
              "  </svg>\n",
              "      </button>\n",
              "      \n",
              "  <style>\n",
              "    .colab-df-container {\n",
              "      display:flex;\n",
              "      flex-wrap:wrap;\n",
              "      gap: 12px;\n",
              "    }\n",
              "\n",
              "    .colab-df-convert {\n",
              "      background-color: #E8F0FE;\n",
              "      border: none;\n",
              "      border-radius: 50%;\n",
              "      cursor: pointer;\n",
              "      display: none;\n",
              "      fill: #1967D2;\n",
              "      height: 32px;\n",
              "      padding: 0 0 0 0;\n",
              "      width: 32px;\n",
              "    }\n",
              "\n",
              "    .colab-df-convert:hover {\n",
              "      background-color: #E2EBFA;\n",
              "      box-shadow: 0px 1px 2px rgba(60, 64, 67, 0.3), 0px 1px 3px 1px rgba(60, 64, 67, 0.15);\n",
              "      fill: #174EA6;\n",
              "    }\n",
              "\n",
              "    [theme=dark] .colab-df-convert {\n",
              "      background-color: #3B4455;\n",
              "      fill: #D2E3FC;\n",
              "    }\n",
              "\n",
              "    [theme=dark] .colab-df-convert:hover {\n",
              "      background-color: #434B5C;\n",
              "      box-shadow: 0px 1px 3px 1px rgba(0, 0, 0, 0.15);\n",
              "      filter: drop-shadow(0px 1px 2px rgba(0, 0, 0, 0.3));\n",
              "      fill: #FFFFFF;\n",
              "    }\n",
              "  </style>\n",
              "\n",
              "      <script>\n",
              "        const buttonEl =\n",
              "          document.querySelector('#df-f06b8c6a-6e04-439e-b06b-9a12e4131912 button.colab-df-convert');\n",
              "        buttonEl.style.display =\n",
              "          google.colab.kernel.accessAllowed ? 'block' : 'none';\n",
              "\n",
              "        async function convertToInteractive(key) {\n",
              "          const element = document.querySelector('#df-f06b8c6a-6e04-439e-b06b-9a12e4131912');\n",
              "          const dataTable =\n",
              "            await google.colab.kernel.invokeFunction('convertToInteractive',\n",
              "                                                     [key], {});\n",
              "          if (!dataTable) return;\n",
              "\n",
              "          const docLinkHtml = 'Like what you see? Visit the ' +\n",
              "            '<a target=\"_blank\" href=https://colab.research.google.com/notebooks/data_table.ipynb>data table notebook</a>'\n",
              "            + ' to learn more about interactive tables.';\n",
              "          element.innerHTML = '';\n",
              "          dataTable['output_type'] = 'display_data';\n",
              "          await google.colab.output.renderOutput(dataTable, element);\n",
              "          const docLink = document.createElement('div');\n",
              "          docLink.innerHTML = docLinkHtml;\n",
              "          element.appendChild(docLink);\n",
              "        }\n",
              "      </script>\n",
              "    </div>\n",
              "  </div>\n",
              "  "
            ]
          },
          "metadata": {},
          "execution_count": 37
        }
      ]
    },
    {
      "cell_type": "code",
      "source": [
        "# convert the date column to pandas date format\n",
        "\n",
        "df['date'] = pd.to_datetime(df['date'])"
      ],
      "metadata": {
        "id": "KLh9kwRRJOS9"
      },
      "execution_count": 38,
      "outputs": []
    },
    {
      "cell_type": "code",
      "source": [
        "# examine the first five records again to note the change in format\n",
        "\n",
        "df.head()"
      ],
      "metadata": {
        "colab": {
          "base_uri": "https://localhost:8080/",
          "height": 206
        },
        "id": "drIxtqlwJ3xt",
        "outputId": "cc35f40c-3414-47e9-ec6d-bb430ec9ed74"
      },
      "execution_count": 39,
      "outputs": [
        {
          "output_type": "execute_result",
          "data": {
            "text/plain": [
              "        date                                               lies  \\\n",
              "0 2017-01-21  I wasn't a fan of Iraq. I didn't want to go in...   \n",
              "1 2017-01-21  A reporter for Time magazine — and I have been...   \n",
              "2 2017-01-23  Between 3 million and 5 million illegal votes ...   \n",
              "3 2017-01-25  Now, the audience was the biggest ever. But th...   \n",
              "4 2017-01-25  Take a look at the Pew reports (which show vot...   \n",
              "\n",
              "                                         explanation  \\\n",
              "0   He was for an invasion before he was against it.   \n",
              "1  Trump was on the cover 11 times and Nixon appe...   \n",
              "2             There's no evidence of illegal voting.   \n",
              "3  Official aerial photos show Obama's 2009 inaug...   \n",
              "4            The report never mentioned voter fraud.   \n",
              "\n",
              "                                                 url  \n",
              "0  https://www.buzzfeed.com/andrewkaczynski/in-20...  \n",
              "1  http://nation.time.com/2013/11/06/10-things-yo...  \n",
              "2  https://www.nytimes.com/2017/01/23/us/politics...  \n",
              "3  https://www.nytimes.com/2017/01/21/us/politics...  \n",
              "4  https://www.nytimes.com/2017/01/24/us/politics...  "
            ],
            "text/html": [
              "\n",
              "  <div id=\"df-e71ec286-555a-4653-be3e-1375fd035c17\">\n",
              "    <div class=\"colab-df-container\">\n",
              "      <div>\n",
              "<style scoped>\n",
              "    .dataframe tbody tr th:only-of-type {\n",
              "        vertical-align: middle;\n",
              "    }\n",
              "\n",
              "    .dataframe tbody tr th {\n",
              "        vertical-align: top;\n",
              "    }\n",
              "\n",
              "    .dataframe thead th {\n",
              "        text-align: right;\n",
              "    }\n",
              "</style>\n",
              "<table border=\"1\" class=\"dataframe\">\n",
              "  <thead>\n",
              "    <tr style=\"text-align: right;\">\n",
              "      <th></th>\n",
              "      <th>date</th>\n",
              "      <th>lies</th>\n",
              "      <th>explanation</th>\n",
              "      <th>url</th>\n",
              "    </tr>\n",
              "  </thead>\n",
              "  <tbody>\n",
              "    <tr>\n",
              "      <th>0</th>\n",
              "      <td>2017-01-21</td>\n",
              "      <td>I wasn't a fan of Iraq. I didn't want to go in...</td>\n",
              "      <td>He was for an invasion before he was against it.</td>\n",
              "      <td>https://www.buzzfeed.com/andrewkaczynski/in-20...</td>\n",
              "    </tr>\n",
              "    <tr>\n",
              "      <th>1</th>\n",
              "      <td>2017-01-21</td>\n",
              "      <td>A reporter for Time magazine — and I have been...</td>\n",
              "      <td>Trump was on the cover 11 times and Nixon appe...</td>\n",
              "      <td>http://nation.time.com/2013/11/06/10-things-yo...</td>\n",
              "    </tr>\n",
              "    <tr>\n",
              "      <th>2</th>\n",
              "      <td>2017-01-23</td>\n",
              "      <td>Between 3 million and 5 million illegal votes ...</td>\n",
              "      <td>There's no evidence of illegal voting.</td>\n",
              "      <td>https://www.nytimes.com/2017/01/23/us/politics...</td>\n",
              "    </tr>\n",
              "    <tr>\n",
              "      <th>3</th>\n",
              "      <td>2017-01-25</td>\n",
              "      <td>Now, the audience was the biggest ever. But th...</td>\n",
              "      <td>Official aerial photos show Obama's 2009 inaug...</td>\n",
              "      <td>https://www.nytimes.com/2017/01/21/us/politics...</td>\n",
              "    </tr>\n",
              "    <tr>\n",
              "      <th>4</th>\n",
              "      <td>2017-01-25</td>\n",
              "      <td>Take a look at the Pew reports (which show vot...</td>\n",
              "      <td>The report never mentioned voter fraud.</td>\n",
              "      <td>https://www.nytimes.com/2017/01/24/us/politics...</td>\n",
              "    </tr>\n",
              "  </tbody>\n",
              "</table>\n",
              "</div>\n",
              "      <button class=\"colab-df-convert\" onclick=\"convertToInteractive('df-e71ec286-555a-4653-be3e-1375fd035c17')\"\n",
              "              title=\"Convert this dataframe to an interactive table.\"\n",
              "              style=\"display:none;\">\n",
              "        \n",
              "  <svg xmlns=\"http://www.w3.org/2000/svg\" height=\"24px\"viewBox=\"0 0 24 24\"\n",
              "       width=\"24px\">\n",
              "    <path d=\"M0 0h24v24H0V0z\" fill=\"none\"/>\n",
              "    <path d=\"M18.56 5.44l.94 2.06.94-2.06 2.06-.94-2.06-.94-.94-2.06-.94 2.06-2.06.94zm-11 1L8.5 8.5l.94-2.06 2.06-.94-2.06-.94L8.5 2.5l-.94 2.06-2.06.94zm10 10l.94 2.06.94-2.06 2.06-.94-2.06-.94-.94-2.06-.94 2.06-2.06.94z\"/><path d=\"M17.41 7.96l-1.37-1.37c-.4-.4-.92-.59-1.43-.59-.52 0-1.04.2-1.43.59L10.3 9.45l-7.72 7.72c-.78.78-.78 2.05 0 2.83L4 21.41c.39.39.9.59 1.41.59.51 0 1.02-.2 1.41-.59l7.78-7.78 2.81-2.81c.8-.78.8-2.07 0-2.86zM5.41 20L4 18.59l7.72-7.72 1.47 1.35L5.41 20z\"/>\n",
              "  </svg>\n",
              "      </button>\n",
              "      \n",
              "  <style>\n",
              "    .colab-df-container {\n",
              "      display:flex;\n",
              "      flex-wrap:wrap;\n",
              "      gap: 12px;\n",
              "    }\n",
              "\n",
              "    .colab-df-convert {\n",
              "      background-color: #E8F0FE;\n",
              "      border: none;\n",
              "      border-radius: 50%;\n",
              "      cursor: pointer;\n",
              "      display: none;\n",
              "      fill: #1967D2;\n",
              "      height: 32px;\n",
              "      padding: 0 0 0 0;\n",
              "      width: 32px;\n",
              "    }\n",
              "\n",
              "    .colab-df-convert:hover {\n",
              "      background-color: #E2EBFA;\n",
              "      box-shadow: 0px 1px 2px rgba(60, 64, 67, 0.3), 0px 1px 3px 1px rgba(60, 64, 67, 0.15);\n",
              "      fill: #174EA6;\n",
              "    }\n",
              "\n",
              "    [theme=dark] .colab-df-convert {\n",
              "      background-color: #3B4455;\n",
              "      fill: #D2E3FC;\n",
              "    }\n",
              "\n",
              "    [theme=dark] .colab-df-convert:hover {\n",
              "      background-color: #434B5C;\n",
              "      box-shadow: 0px 1px 3px 1px rgba(0, 0, 0, 0.15);\n",
              "      filter: drop-shadow(0px 1px 2px rgba(0, 0, 0, 0.3));\n",
              "      fill: #FFFFFF;\n",
              "    }\n",
              "  </style>\n",
              "\n",
              "      <script>\n",
              "        const buttonEl =\n",
              "          document.querySelector('#df-e71ec286-555a-4653-be3e-1375fd035c17 button.colab-df-convert');\n",
              "        buttonEl.style.display =\n",
              "          google.colab.kernel.accessAllowed ? 'block' : 'none';\n",
              "\n",
              "        async function convertToInteractive(key) {\n",
              "          const element = document.querySelector('#df-e71ec286-555a-4653-be3e-1375fd035c17');\n",
              "          const dataTable =\n",
              "            await google.colab.kernel.invokeFunction('convertToInteractive',\n",
              "                                                     [key], {});\n",
              "          if (!dataTable) return;\n",
              "\n",
              "          const docLinkHtml = 'Like what you see? Visit the ' +\n",
              "            '<a target=\"_blank\" href=https://colab.research.google.com/notebooks/data_table.ipynb>data table notebook</a>'\n",
              "            + ' to learn more about interactive tables.';\n",
              "          element.innerHTML = '';\n",
              "          dataTable['output_type'] = 'display_data';\n",
              "          await google.colab.output.renderOutput(dataTable, element);\n",
              "          const docLink = document.createElement('div');\n",
              "          docLink.innerHTML = docLinkHtml;\n",
              "          element.appendChild(docLink);\n",
              "        }\n",
              "      </script>\n",
              "    </div>\n",
              "  </div>\n",
              "  "
            ]
          },
          "metadata": {},
          "execution_count": 39
        }
      ]
    },
    {
      "cell_type": "code",
      "source": [
        "# examine the last five rows again to note the change in format\n",
        "\n",
        "df.tail()"
      ],
      "metadata": {
        "colab": {
          "base_uri": "https://localhost:8080/",
          "height": 206
        },
        "id": "Z_AgBjCtJ_vc",
        "outputId": "92cb65ca-0a57-400f-d618-5b8201ebf710"
      },
      "execution_count": 40,
      "outputs": [
        {
          "output_type": "execute_result",
          "data": {
            "text/plain": [
              "          date                                               lies  \\\n",
              "175 2017-10-25      We have trade deficits with almost everybody.   \n",
              "176 2017-10-27  Wacky & totally unhinged Tom Steyer, who has b...   \n",
              "177 2017-11-01  Again, we're the highest-taxed nation, just ab...   \n",
              "178 2017-11-07  When you look at the city with the strongest g...   \n",
              "179 2017-11-11  I'd rather have him  – you know, work with him...   \n",
              "\n",
              "                                           explanation  \\\n",
              "175  We have trade surpluses with more than 100 cou...   \n",
              "176  Steyer has financially supported many winning ...   \n",
              "177                                         We're not.   \n",
              "178  Several other cities, including New York and L...   \n",
              "179  There is no evidence that Democrats \"set up\" R...   \n",
              "\n",
              "                                                   url  \n",
              "175  https://www.bea.gov/newsreleases/international...  \n",
              "176  https://www.opensecrets.org/donor-lookup/resul...  \n",
              "177  http://www.politifact.com/truth-o-meter/statem...  \n",
              "178  http://www.politifact.com/truth-o-meter/statem...  \n",
              "179  https://www.nytimes.com/interactive/2017/12/10...  "
            ],
            "text/html": [
              "\n",
              "  <div id=\"df-6aaaa82b-bccc-4ea2-91de-083f7a7626af\">\n",
              "    <div class=\"colab-df-container\">\n",
              "      <div>\n",
              "<style scoped>\n",
              "    .dataframe tbody tr th:only-of-type {\n",
              "        vertical-align: middle;\n",
              "    }\n",
              "\n",
              "    .dataframe tbody tr th {\n",
              "        vertical-align: top;\n",
              "    }\n",
              "\n",
              "    .dataframe thead th {\n",
              "        text-align: right;\n",
              "    }\n",
              "</style>\n",
              "<table border=\"1\" class=\"dataframe\">\n",
              "  <thead>\n",
              "    <tr style=\"text-align: right;\">\n",
              "      <th></th>\n",
              "      <th>date</th>\n",
              "      <th>lies</th>\n",
              "      <th>explanation</th>\n",
              "      <th>url</th>\n",
              "    </tr>\n",
              "  </thead>\n",
              "  <tbody>\n",
              "    <tr>\n",
              "      <th>175</th>\n",
              "      <td>2017-10-25</td>\n",
              "      <td>We have trade deficits with almost everybody.</td>\n",
              "      <td>We have trade surpluses with more than 100 cou...</td>\n",
              "      <td>https://www.bea.gov/newsreleases/international...</td>\n",
              "    </tr>\n",
              "    <tr>\n",
              "      <th>176</th>\n",
              "      <td>2017-10-27</td>\n",
              "      <td>Wacky &amp; totally unhinged Tom Steyer, who has b...</td>\n",
              "      <td>Steyer has financially supported many winning ...</td>\n",
              "      <td>https://www.opensecrets.org/donor-lookup/resul...</td>\n",
              "    </tr>\n",
              "    <tr>\n",
              "      <th>177</th>\n",
              "      <td>2017-11-01</td>\n",
              "      <td>Again, we're the highest-taxed nation, just ab...</td>\n",
              "      <td>We're not.</td>\n",
              "      <td>http://www.politifact.com/truth-o-meter/statem...</td>\n",
              "    </tr>\n",
              "    <tr>\n",
              "      <th>178</th>\n",
              "      <td>2017-11-07</td>\n",
              "      <td>When you look at the city with the strongest g...</td>\n",
              "      <td>Several other cities, including New York and L...</td>\n",
              "      <td>http://www.politifact.com/truth-o-meter/statem...</td>\n",
              "    </tr>\n",
              "    <tr>\n",
              "      <th>179</th>\n",
              "      <td>2017-11-11</td>\n",
              "      <td>I'd rather have him  – you know, work with him...</td>\n",
              "      <td>There is no evidence that Democrats \"set up\" R...</td>\n",
              "      <td>https://www.nytimes.com/interactive/2017/12/10...</td>\n",
              "    </tr>\n",
              "  </tbody>\n",
              "</table>\n",
              "</div>\n",
              "      <button class=\"colab-df-convert\" onclick=\"convertToInteractive('df-6aaaa82b-bccc-4ea2-91de-083f7a7626af')\"\n",
              "              title=\"Convert this dataframe to an interactive table.\"\n",
              "              style=\"display:none;\">\n",
              "        \n",
              "  <svg xmlns=\"http://www.w3.org/2000/svg\" height=\"24px\"viewBox=\"0 0 24 24\"\n",
              "       width=\"24px\">\n",
              "    <path d=\"M0 0h24v24H0V0z\" fill=\"none\"/>\n",
              "    <path d=\"M18.56 5.44l.94 2.06.94-2.06 2.06-.94-2.06-.94-.94-2.06-.94 2.06-2.06.94zm-11 1L8.5 8.5l.94-2.06 2.06-.94-2.06-.94L8.5 2.5l-.94 2.06-2.06.94zm10 10l.94 2.06.94-2.06 2.06-.94-2.06-.94-.94-2.06-.94 2.06-2.06.94z\"/><path d=\"M17.41 7.96l-1.37-1.37c-.4-.4-.92-.59-1.43-.59-.52 0-1.04.2-1.43.59L10.3 9.45l-7.72 7.72c-.78.78-.78 2.05 0 2.83L4 21.41c.39.39.9.59 1.41.59.51 0 1.02-.2 1.41-.59l7.78-7.78 2.81-2.81c.8-.78.8-2.07 0-2.86zM5.41 20L4 18.59l7.72-7.72 1.47 1.35L5.41 20z\"/>\n",
              "  </svg>\n",
              "      </button>\n",
              "      \n",
              "  <style>\n",
              "    .colab-df-container {\n",
              "      display:flex;\n",
              "      flex-wrap:wrap;\n",
              "      gap: 12px;\n",
              "    }\n",
              "\n",
              "    .colab-df-convert {\n",
              "      background-color: #E8F0FE;\n",
              "      border: none;\n",
              "      border-radius: 50%;\n",
              "      cursor: pointer;\n",
              "      display: none;\n",
              "      fill: #1967D2;\n",
              "      height: 32px;\n",
              "      padding: 0 0 0 0;\n",
              "      width: 32px;\n",
              "    }\n",
              "\n",
              "    .colab-df-convert:hover {\n",
              "      background-color: #E2EBFA;\n",
              "      box-shadow: 0px 1px 2px rgba(60, 64, 67, 0.3), 0px 1px 3px 1px rgba(60, 64, 67, 0.15);\n",
              "      fill: #174EA6;\n",
              "    }\n",
              "\n",
              "    [theme=dark] .colab-df-convert {\n",
              "      background-color: #3B4455;\n",
              "      fill: #D2E3FC;\n",
              "    }\n",
              "\n",
              "    [theme=dark] .colab-df-convert:hover {\n",
              "      background-color: #434B5C;\n",
              "      box-shadow: 0px 1px 3px 1px rgba(0, 0, 0, 0.15);\n",
              "      filter: drop-shadow(0px 1px 2px rgba(0, 0, 0, 0.3));\n",
              "      fill: #FFFFFF;\n",
              "    }\n",
              "  </style>\n",
              "\n",
              "      <script>\n",
              "        const buttonEl =\n",
              "          document.querySelector('#df-6aaaa82b-bccc-4ea2-91de-083f7a7626af button.colab-df-convert');\n",
              "        buttonEl.style.display =\n",
              "          google.colab.kernel.accessAllowed ? 'block' : 'none';\n",
              "\n",
              "        async function convertToInteractive(key) {\n",
              "          const element = document.querySelector('#df-6aaaa82b-bccc-4ea2-91de-083f7a7626af');\n",
              "          const dataTable =\n",
              "            await google.colab.kernel.invokeFunction('convertToInteractive',\n",
              "                                                     [key], {});\n",
              "          if (!dataTable) return;\n",
              "\n",
              "          const docLinkHtml = 'Like what you see? Visit the ' +\n",
              "            '<a target=\"_blank\" href=https://colab.research.google.com/notebooks/data_table.ipynb>data table notebook</a>'\n",
              "            + ' to learn more about interactive tables.';\n",
              "          element.innerHTML = '';\n",
              "          dataTable['output_type'] = 'display_data';\n",
              "          await google.colab.output.renderOutput(dataTable, element);\n",
              "          const docLink = document.createElement('div');\n",
              "          docLink.innerHTML = docLinkHtml;\n",
              "          element.appendChild(docLink);\n",
              "        }\n",
              "      </script>\n",
              "    </div>\n",
              "  </div>\n",
              "  "
            ]
          },
          "metadata": {},
          "execution_count": 40
        }
      ]
    },
    {
      "cell_type": "markdown",
      "source": [
        "Export data to csv"
      ],
      "metadata": {
        "id": "2xu447RlKbDD"
      }
    },
    {
      "cell_type": "code",
      "source": [
        "df.to_csv('trump_lies.csv', index = False, encoding = 'utf-8')"
      ],
      "metadata": {
        "id": "hLa0xaIWKGJn"
      },
      "execution_count": 41,
      "outputs": []
    },
    {
      "cell_type": "code",
      "source": [
        ""
      ],
      "metadata": {
        "id": "iTqOl-ScKeVm"
      },
      "execution_count": null,
      "outputs": []
    }
  ]
}